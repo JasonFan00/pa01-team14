{
 "cells": [
  {
   "cell_type": "markdown",
   "metadata": {},
   "source": [
    "# Courses Demo\n",
    "This Jupyter notebook is for exploring the data set courses20-21.json\n",
    "which consists of all Brandeis courses in the 20-21 academic year (Fall20, Spr21, Sum21) \n",
    "which had at least 1 student enrolled.\n",
    "\n",
    "First we need to read the json file into a list of Python dictionaries"
   ]
  },
  {
   "cell_type": "code",
   "execution_count": 1,
   "metadata": {},
   "outputs": [],
   "source": [
    "import json"
   ]
  },
  {
   "cell_type": "code",
   "execution_count": 2,
   "metadata": {},
   "outputs": [],
   "source": [
    "with open(\"courses20-21.json\",\"r\",encoding='utf-8') as jsonfile:\n",
    "    courses = json.load(jsonfile)"
   ]
  },
  {
   "cell_type": "markdown",
   "metadata": {},
   "source": [
    "## Structure of a course\n",
    "Next we look at the fields of each course dictionary and their values"
   ]
  },
  {
   "cell_type": "code",
   "execution_count": 3,
   "metadata": {
    "jupyter": {
     "source_hidden": true
    }
   },
   "outputs": [
    {
     "name": "stdout",
     "output_type": "stream",
     "text": [
      "there are 7813 courses in the dataset\n",
      "here is the data for course 1246\n"
     ]
    },
    {
     "data": {
      "text/plain": [
       "{'limit': 28,\n",
       " 'times': [{'start': 1080, 'end': 1170, 'days': ['w', 'm']}],\n",
       " 'enrolled': 4,\n",
       " 'details': 'Instruction for this course will be offered remotely. Meeting times for this course are listed in the schedule of classes (in ET).',\n",
       " 'type': 'section',\n",
       " 'status_text': 'Open',\n",
       " 'section': '1',\n",
       " 'waiting': 0,\n",
       " 'instructor': ['An', 'Huang', 'anhuang@brandeis.edu'],\n",
       " 'coinstructors': [],\n",
       " 'code': ['MATH', '223A'],\n",
       " 'subject': 'MATH',\n",
       " 'coursenum': '223A',\n",
       " 'name': 'Lie Algebras: Representation Theory',\n",
       " 'independent_study': False,\n",
       " 'term': '1203',\n",
       " 'description': \"Theorems of Engel and Lie. Semisimple Lie algebras, Cartan's criterion. Universal enveloping algebras, PBW theorem, Serre's construction. Representation theory. Other topics as time permits. Usually offered every second year.\\nAn Huang\"}"
      ]
     },
     "execution_count": 3,
     "metadata": {},
     "output_type": "execute_result"
    }
   ],
   "source": [
    "print('there are',len(courses),'courses in the dataset')\n",
    "print('here is the data for course 1246')\n",
    "courses[1246]"
   ]
  },
  {
   "cell_type": "markdown",
   "metadata": {},
   "source": [
    "## Cleaning the data\n",
    "If we want to sort courses by instructor or by code, we need to replace the lists with tuples (which are immutable lists)"
   ]
  },
  {
   "cell_type": "code",
   "execution_count": 4,
   "metadata": {},
   "outputs": [],
   "source": [
    "for course in courses:\n",
    "        course['instructor'] = tuple(course['instructor'])\n",
    "        course['coinstructors'] = tuple([tuple(f) for f in course['coinstructors']])\n",
    "        course['code']= tuple(course['code'])"
   ]
  },
  {
   "cell_type": "code",
   "execution_count": 5,
   "metadata": {
    "jupyter": {
     "source_hidden": true
    }
   },
   "outputs": [
    {
     "name": "stdout",
     "output_type": "stream",
     "text": [
      "notice that the instructor and code are tuples now\n"
     ]
    },
    {
     "data": {
      "text/plain": [
       "{'limit': 28,\n",
       " 'times': [{'start': 1080, 'end': 1170, 'days': ['w', 'm']}],\n",
       " 'enrolled': 4,\n",
       " 'details': 'Instruction for this course will be offered remotely. Meeting times for this course are listed in the schedule of classes (in ET).',\n",
       " 'type': 'section',\n",
       " 'status_text': 'Open',\n",
       " 'section': '1',\n",
       " 'waiting': 0,\n",
       " 'instructor': ('An', 'Huang', 'anhuang@brandeis.edu'),\n",
       " 'coinstructors': (),\n",
       " 'code': ('MATH', '223A'),\n",
       " 'subject': 'MATH',\n",
       " 'coursenum': '223A',\n",
       " 'name': 'Lie Algebras: Representation Theory',\n",
       " 'independent_study': False,\n",
       " 'term': '1203',\n",
       " 'description': \"Theorems of Engel and Lie. Semisimple Lie algebras, Cartan's criterion. Universal enveloping algebras, PBW theorem, Serre's construction. Representation theory. Other topics as time permits. Usually offered every second year.\\nAn Huang\"}"
      ]
     },
     "execution_count": 5,
     "metadata": {},
     "output_type": "execute_result"
    }
   ],
   "source": [
    "print('notice that the instructor and code are tuples now')\n",
    "courses[1246]"
   ]
  },
  {
   "cell_type": "markdown",
   "metadata": {},
   "source": [
    "# Exploring the data set\n",
    "Now we will show how to use straight python to explore the data set and answer some interesting questions. Next week we will start learning Pandas/Numpy which are packages that make it easier to explore large dataset efficiently.\n",
    "\n",
    "Here are some questions we can try to asnwer:\n",
    "* what are all of the subjects of courses (e.g. COSI, MATH, JAPN, PHIL, ...)\n",
    "* which terms are represented?\n",
    "* how many instructors taught at Brandeis last year?\n",
    "* what were the five largest course sections?\n",
    "* what were the five largest courses (where we combine sections)?\n",
    "* which are the five largest subjects measured by number of courses offered?\n",
    "* which are the five largest courses measured by number of students taught?\n",
    "* which course had the most sections taught in 20-21?\n",
    "* who are the top five faculty in terms of number of students taught?\n",
    "* etc."
   ]
  },
  {
   "cell_type": "code",
   "execution_count": 6,
   "metadata": {
    "jupyter": {
     "source_hidden": true
    }
   },
   "outputs": [
    {
     "data": {
      "text/plain": [
       "{'1203', '1211', '1212'}"
      ]
     },
     "execution_count": 6,
     "metadata": {},
     "output_type": "execute_result"
    }
   ],
   "source": [
    "{c['term'] for c in courses}"
   ]
  },
  {
   "cell_type": "code",
   "execution_count": 7,
   "metadata": {
    "jupyter": {
     "source_hidden": true
    }
   },
   "outputs": [
    {
     "data": {
      "text/plain": [
       "120"
      ]
     },
     "execution_count": 7,
     "metadata": {},
     "output_type": "execute_result"
    }
   ],
   "source": [
    "len({s['subject']for s in courses})"
   ]
  },
  {
   "cell_type": "code",
   "execution_count": 8,
   "metadata": {
    "jupyter": {
     "source_hidden": true
    }
   },
   "outputs": [
    {
     "data": {
      "text/plain": [
       "904"
      ]
     },
     "execution_count": 8,
     "metadata": {},
     "output_type": "execute_result"
    }
   ],
   "source": [
    "len({i['instructor']for i in courses})"
   ]
  },
  {
   "cell_type": "markdown",
   "metadata": {},
   "source": [
    "#### 5e\n",
    "\n",
    "Create a list of tuples (E,S) where S is a subject and E is the number of students enrolled in courses in that subject, sort it and print the top 10 subjects in terms of number of courses offered. \n",
    "\n",
    "(# of courses offered per subject) \n",
    "Subject with highest number of courses "
   ]
  },
  {
   "cell_type": "code",
   "execution_count": 9,
   "metadata": {},
   "outputs": [
    {
     "data": {
      "text/plain": [
       "((497, 'HIST'),\n",
       " (416, 'PSYC'),\n",
       " (402, 'NEUR'),\n",
       " (295, 'BCHM'),\n",
       " (287, 'PHYS'),\n",
       " (273, 'HS'),\n",
       " (271, 'COSI'),\n",
       " (265, 'MUS'),\n",
       " (264, 'ENG'),\n",
       " (262, 'BCBP'))"
      ]
     },
     "execution_count": 9,
     "metadata": {},
     "output_type": "execute_result"
    }
   ],
   "source": [
    "sizes_dict = {}\n",
    "for course in courses:\n",
    "    sizes_dict[course[\"subject\"]] = (sizes_dict[course[\"subject\"]] + 1) if course['subject'] in sizes_dict else 0 \n",
    "    #Create a counter  with subjects as keys ie {Biol: 1} and then, then use a sorter to get the b top ten in a for loop\n",
    "    # and then use that to create a tuples\n",
    "courses_1 = []\n",
    "for subject_name, subject_size in sizes_dict.items():\n",
    "    courses_1.append([subject_name, subject_size])\n",
    "subjects_by_size = sorted(courses_1, key = lambda subject:- subject[1])\n",
    "tuple([(course[1], course[0]) for course in subjects_by_size [1:11]])"
   ]
  },
  {
   "cell_type": "markdown",
   "metadata": {},
   "source": [
    "#5f\n",
    "\n",
    "Create a list of tuples (E,S) where S is a subject and E is the number of students enrolled in courses in that subject, sort it and print the top 10 subjects in terms of number of faculty teaching courses in that subject"
   ]
  },
  {
   "cell_type": "code",
   "execution_count": 10,
   "metadata": {},
   "outputs": [
    {
     "data": {
      "text/plain": [
       "((48, ('Leslie Claire', 'Griffith', 'griffith@brandeis.edu')),\n",
       " (48, ('Kene Nathan', 'Piasta', 'kpiasta@brandeis.edu')),\n",
       " (46, ('Sacha', 'Nelson', 'nelson@brandeis.edu')),\n",
       " (46, ('Seth', 'Fraden', 'fraden@brandeis.edu')),\n",
       " (46, ('Paul', 'DiZio', 'dizio@brandeis.edu')),\n",
       " (45, ('John', 'Lisman', 'lisman@brandeis.edu')),\n",
       " (44, ('Michael', 'Rosbash', 'rosbash@brandeis.edu')),\n",
       " (44, ('Donald B.', 'Katz', 'dbkatz@brandeis.edu')),\n",
       " (44, ('Robert W', 'Sekuler', 'sekuler@brandeis.edu')),\n",
       " (43, ('Arthur', 'Wingfield', 'wingfiel@brandeis.edu')))"
      ]
     },
     "execution_count": 10,
     "metadata": {},
     "output_type": "execute_result"
    }
   ],
   "source": [
    "sizes_dict = {}\n",
    "for course in courses:\n",
    "    sizes_dict[course[\"instructor\"]] = (sizes_dict[course[\"instructor\"]] + 1) if course[\"instructor\"] in sizes_dict else 0   \n",
    "courses = []\n",
    "for subject_name, subject_size in sizes_dict.items():\n",
    "    courses.append([subject_name, subject_size])\n",
    "subjects_by_size = sorted(courses, key = lambda subject:- subject[1])\n",
    "tuple([(course[1], course[0]) for course in subjects_by_size [1:11]])"
   ]
  },
  {
   "cell_type": "markdown",
   "metadata": {},
   "source": [
    "#5i \n",
    "Create your own interesting question (each team member creates their own) and use Python to answer that question.\n",
    "\n",
    "My question:\n",
    "Calculate the median enrollment taught in biology. "
   ]
  },
  {
   "cell_type": "code",
   "execution_count": 11,
   "metadata": {},
   "outputs": [
    {
     "ename": "TypeError",
     "evalue": "list indices must be integers or slices, not str",
     "output_type": "error",
     "traceback": [
      "\u001b[0;31m---------------------------------------------------------------------------\u001b[0m",
      "\u001b[0;31mTypeError\u001b[0m                                 Traceback (most recent call last)",
      "\u001b[0;32m<ipython-input-11-3667bdba5c15>\u001b[0m in \u001b[0;36m<module>\u001b[0;34m\u001b[0m\n\u001b[1;32m      1\u001b[0m \u001b[0;32mimport\u001b[0m \u001b[0mstatistics\u001b[0m\u001b[0;34m\u001b[0m\u001b[0;34m\u001b[0m\u001b[0m\n\u001b[0;32m----> 2\u001b[0;31m \u001b[0mlist\u001b[0m \u001b[0;34m=\u001b[0m \u001b[0;34m{\u001b[0m\u001b[0mc\u001b[0m\u001b[0;34m[\u001b[0m\u001b[0;34m'enrolled'\u001b[0m\u001b[0;34m]\u001b[0m \u001b[0;32mfor\u001b[0m \u001b[0mc\u001b[0m \u001b[0;32min\u001b[0m \u001b[0mcourses\u001b[0m \u001b[0;32mif\u001b[0m \u001b[0mc\u001b[0m\u001b[0;34m[\u001b[0m\u001b[0;34m'subject'\u001b[0m\u001b[0;34m]\u001b[0m\u001b[0;34m==\u001b[0m\u001b[0;34m'BIOL'\u001b[0m \u001b[0;32mif\u001b[0m \u001b[0mc\u001b[0m\u001b[0;34m[\u001b[0m\u001b[0;34m'enrolled'\u001b[0m\u001b[0;34m]\u001b[0m\u001b[0;34m<=\u001b[0m\u001b[0;36m10\u001b[0m\u001b[0;34m}\u001b[0m\u001b[0;34m\u001b[0m\u001b[0;34m\u001b[0m\u001b[0m\n\u001b[0m\u001b[1;32m      3\u001b[0m \u001b[0mprint\u001b[0m\u001b[0;34m(\u001b[0m\u001b[0mstatistics\u001b[0m\u001b[0;34m.\u001b[0m\u001b[0mmedian\u001b[0m\u001b[0;34m(\u001b[0m\u001b[0;34m[\u001b[0m\u001b[0mlist\u001b[0m\u001b[0;34m]\u001b[0m\u001b[0;34m)\u001b[0m\u001b[0;34m)\u001b[0m\u001b[0;34m\u001b[0m\u001b[0;34m\u001b[0m\u001b[0m\n",
      "\u001b[0;32m<ipython-input-11-3667bdba5c15>\u001b[0m in \u001b[0;36m<setcomp>\u001b[0;34m(.0)\u001b[0m\n\u001b[1;32m      1\u001b[0m \u001b[0;32mimport\u001b[0m \u001b[0mstatistics\u001b[0m\u001b[0;34m\u001b[0m\u001b[0;34m\u001b[0m\u001b[0m\n\u001b[0;32m----> 2\u001b[0;31m \u001b[0mlist\u001b[0m \u001b[0;34m=\u001b[0m \u001b[0;34m{\u001b[0m\u001b[0mc\u001b[0m\u001b[0;34m[\u001b[0m\u001b[0;34m'enrolled'\u001b[0m\u001b[0;34m]\u001b[0m \u001b[0;32mfor\u001b[0m \u001b[0mc\u001b[0m \u001b[0;32min\u001b[0m \u001b[0mcourses\u001b[0m \u001b[0;32mif\u001b[0m \u001b[0mc\u001b[0m\u001b[0;34m[\u001b[0m\u001b[0;34m'subject'\u001b[0m\u001b[0;34m]\u001b[0m\u001b[0;34m==\u001b[0m\u001b[0;34m'BIOL'\u001b[0m \u001b[0;32mif\u001b[0m \u001b[0mc\u001b[0m\u001b[0;34m[\u001b[0m\u001b[0;34m'enrolled'\u001b[0m\u001b[0;34m]\u001b[0m\u001b[0;34m<=\u001b[0m\u001b[0;36m10\u001b[0m\u001b[0;34m}\u001b[0m\u001b[0;34m\u001b[0m\u001b[0;34m\u001b[0m\u001b[0m\n\u001b[0m\u001b[1;32m      3\u001b[0m \u001b[0mprint\u001b[0m\u001b[0;34m(\u001b[0m\u001b[0mstatistics\u001b[0m\u001b[0;34m.\u001b[0m\u001b[0mmedian\u001b[0m\u001b[0;34m(\u001b[0m\u001b[0;34m[\u001b[0m\u001b[0mlist\u001b[0m\u001b[0;34m]\u001b[0m\u001b[0;34m)\u001b[0m\u001b[0;34m)\u001b[0m\u001b[0;34m\u001b[0m\u001b[0;34m\u001b[0m\u001b[0m\n",
      "\u001b[0;31mTypeError\u001b[0m: list indices must be integers or slices, not str"
     ]
    }
   ],
   "source": [
    "import statistics\n",
    "list = {c['enrolled'] for c in courses if c['subject']=='BIOL' if c['enrolled']<=10}\n",
    "print(statistics.median([list]))"
   ]
  },
  {
   "cell_type": "code",
   "execution_count": null,
   "metadata": {},
   "outputs": [],
   "source": []
  }
 ],
 "metadata": {
  "kernelspec": {
   "display_name": "Python 3",
   "language": "python",
   "name": "python3"
  },
  "language_info": {
   "codemirror_mode": {
    "name": "ipython",
    "version": 3
   },
   "file_extension": ".py",
   "mimetype": "text/x-python",
   "name": "python",
   "nbconvert_exporter": "python",
   "pygments_lexer": "ipython3",
   "version": "3.8.5"
  }
 },
 "nbformat": 4,
 "nbformat_minor": 4
}
