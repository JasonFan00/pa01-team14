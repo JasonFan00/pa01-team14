{
 "cells": [
  {
   "cell_type": "markdown",
   "metadata": {},
   "source": [
    "# Courses Demo\n",
    "This Jupyter notebook is for exploring the data set courses20-21.json\n",
    "which consists of all Brandeis courses in the 20-21 academic year (Fall20, Spr21, Sum21) \n",
    "which had at least 1 student enrolled.\n",
    "\n",
    "First we need to read the json file into a list of Python dictionaries"
   ]
  },
  {
   "cell_type": "code",
   "execution_count": 142,
   "metadata": {},
   "outputs": [],
   "source": [
    "import json"
   ]
  },
  {
   "cell_type": "code",
   "execution_count": 143,
   "metadata": {},
   "outputs": [],
   "source": [
    "with open(\"courses20-21.json\",\"r\",encoding='utf-8') as jsonfile:\n",
    "    courses = json.load(jsonfile)"
   ]
  },
  {
   "cell_type": "markdown",
   "metadata": {},
   "source": [
    "## Structure of a course\n",
    "Next we look at the fields of each course dictionary and their values"
   ]
  },
  {
   "cell_type": "code",
   "execution_count": 144,
   "metadata": {},
   "outputs": [
    {
     "name": "stdout",
     "output_type": "stream",
     "text": [
      "there are 7813 courses in the dataset\n",
      "here is the data for course 1246\n"
     ]
    },
    {
     "data": {
      "text/plain": [
       "{'limit': 28,\n",
       " 'times': [{'start': 1080, 'end': 1170, 'days': ['w', 'm']}],\n",
       " 'enrolled': 4,\n",
       " 'details': 'Instruction for this course will be offered remotely. Meeting times for this course are listed in the schedule of classes (in ET).',\n",
       " 'type': 'section',\n",
       " 'status_text': 'Open',\n",
       " 'section': '1',\n",
       " 'waiting': 0,\n",
       " 'instructor': ['An', 'Huang', 'anhuang@brandeis.edu'],\n",
       " 'coinstructors': [],\n",
       " 'code': ['MATH', '223A'],\n",
       " 'subject': 'MATH',\n",
       " 'coursenum': '223A',\n",
       " 'name': 'Lie Algebras: Representation Theory',\n",
       " 'independent_study': False,\n",
       " 'term': '1203',\n",
       " 'description': \"Theorems of Engel and Lie. Semisimple Lie algebras, Cartan's criterion. Universal enveloping algebras, PBW theorem, Serre's construction. Representation theory. Other topics as time permits. Usually offered every second year.\\nAn Huang\"}"
      ]
     },
     "execution_count": 144,
     "metadata": {},
     "output_type": "execute_result"
    }
   ],
   "source": [
    "print('there are',len(courses),'courses in the dataset')\n",
    "print('here is the data for course 1246')\n",
    "courses[1246]"
   ]
  },
  {
   "cell_type": "markdown",
   "metadata": {},
   "source": []
  },
  {
   "cell_type": "markdown",
   "metadata": {},
   "source": [
    "## Cleaning the data\n",
    "If we want to sort courses by instructor or by code, we need to replace the lists with tuples (which are immutable lists)"
   ]
  },
  {
   "cell_type": "code",
   "execution_count": 145,
   "metadata": {
    "tags": []
   },
   "outputs": [],
   "source": [
    "for course in courses:\n",
    "        course['instructor'] = tuple(course['instructor'])\n",
    "        course['coinstructors'] = tuple([tuple(f) for f in course['coinstructors']])\n",
    "        course['code']= tuple(course['code'])"
   ]
  },
  {
   "cell_type": "code",
   "execution_count": 146,
   "metadata": {
    "tags": []
   },
   "outputs": [
    {
     "name": "stdout",
     "output_type": "stream",
     "text": [
      "notice that the instructor and code are tuples now\n"
     ]
    },
    {
     "data": {
      "text/plain": [
       "{'limit': 28,\n",
       " 'times': [{'start': 1080, 'end': 1170, 'days': ['w', 'm']}],\n",
       " 'enrolled': 4,\n",
       " 'details': 'Instruction for this course will be offered remotely. Meeting times for this course are listed in the schedule of classes (in ET).',\n",
       " 'type': 'section',\n",
       " 'status_text': 'Open',\n",
       " 'section': '1',\n",
       " 'waiting': 0,\n",
       " 'instructor': ('An', 'Huang', 'anhuang@brandeis.edu'),\n",
       " 'coinstructors': (),\n",
       " 'code': ('MATH', '223A'),\n",
       " 'subject': 'MATH',\n",
       " 'coursenum': '223A',\n",
       " 'name': 'Lie Algebras: Representation Theory',\n",
       " 'independent_study': False,\n",
       " 'term': '1203',\n",
       " 'description': \"Theorems of Engel and Lie. Semisimple Lie algebras, Cartan's criterion. Universal enveloping algebras, PBW theorem, Serre's construction. Representation theory. Other topics as time permits. Usually offered every second year.\\nAn Huang\"}"
      ]
     },
     "execution_count": 146,
     "metadata": {},
     "output_type": "execute_result"
    }
   ],
   "source": [
    "print('notice that the instructor and code are tuples now')\n",
    "courses[1246]"
   ]
  },
  {
   "cell_type": "markdown",
   "metadata": {},
   "source": [
    "# Exploring the data set\n",
    "Now we will show how to use straight python to explore the data set and answer some interesting questions. Next week we will start learning Pandas/Numpy which are packages that make it easier to explore large dataset efficiently.\n",
    "\n",
    "Here are some questions we can try to asnwer:\n",
    "* what are all of the subjects of courses (e.g. COSI, MATH, JAPN, PHIL, ...)\n",
    "* which terms are represented?\n",
    "* how many instructors taught at Brandeis last year?\n",
    "* what were the five largest course sections?\n",
    "* what were the five largest courses (where we combine sections)?\n",
    "* which are the five largest subjects measured by number of courses offered?\n",
    "* which are the five largest courses measured by number of students taught?\n",
    "* which course had the most sections taught in 20-21?\n",
    "* who are the top five faculty in terms of number of students taught?\n",
    "* etc."
   ]
  },
  {
   "cell_type": "markdown",
   "metadata": {},
   "source": [
    "## 5a How many faculty taught COSI courses last year?"
   ]
  },
  {
   "cell_type": "code",
   "execution_count": 147,
   "metadata": {},
   "outputs": [
    {
     "data": {
      "text/plain": [
       "25"
      ]
     },
     "execution_count": 147,
     "metadata": {},
     "output_type": "execute_result"
    }
   ],
   "source": [
    "list = {c['instructor'] for c in courses if c['subject']=='COSI' if c['enrolled']>0} \n",
    "len(list)"
   ]
  },
  {
   "cell_type": "markdown",
   "metadata": {},
   "source": [
    "## 5b What is the total number of students taking COSI courses last year?"
   ]
  },
  {
   "cell_type": "code",
   "execution_count": 148,
   "metadata": {},
   "outputs": [
    {
     "name": "stdout",
     "output_type": "stream",
     "text": [
      "1950\n"
     ]
    }
   ],
   "source": [
    "list = {c['enrolled'] for c in courses if c['subject']== 'COSI' if c['enrolled'] > 0}\n",
    "count= 0\n",
    "for i in list:\n",
    "    count = count + i\n",
    "print (count)"
   ]
  },
  {
   "cell_type": "markdown",
   "metadata": {},
   "source": [
    "## 5i Tenzin - A list of open courses in COSI"
   ]
  },
  {
   "cell_type": "code",
   "execution_count": 149,
   "metadata": {},
   "outputs": [
    {
     "data": {
      "text/plain": [
       "{'Capstone Project for Software Engineering',\n",
       " 'Data Management for Data Science',\n",
       " 'Deep Learning',\n",
       " 'Discrete Structures',\n",
       " 'Fundamentals of Artificial Intelligence',\n",
       " 'Introduction to Problem Solving in Python',\n",
       " 'Operating Systems'}"
      ]
     },
     "execution_count": 149,
     "metadata": {},
     "output_type": "execute_result"
    }
   ],
   "source": [
    "{c['name'] for c in courses if c['status_text']=='Closed' if c['subject']=='COSI' if c['enrolled']>10}"
   ]
  },
  {
   "cell_type": "markdown",
   "metadata": {},
   "source": [
    "## 5c. \n",
    "what was the median size of a COSI course last year (counting only those courses with at least 10 students)"
   ]
  },
  {
   "cell_type": "code",
   "execution_count": 150,
   "metadata": {
    "tags": []
   },
   "outputs": [
    {
     "name": "stdout",
     "output_type": "stream",
     "text": [
      "45.5\n"
     ]
    }
   ],
   "source": [
    "import statistics\n",
    "list_en = {c['enrolled'] for c in courses if c['subject']=='COSI' if c['enrolled']>=10}\n",
    "print(statistics.median(list_en))\n"
   ]
  },
  {
   "cell_type": "markdown",
   "metadata": {
    "tags": []
   },
   "source": [
    "## 5d. \n",
    "Create a list of tuples (E,S) where S is a subject and E is the number of students enrolled in courses in that subject, sort it and print the top 10. This shows the top 10 subjects in terms of number of students taught."
   ]
  },
  {
   "cell_type": "code",
   "execution_count": 151,
   "metadata": {},
   "outputs": [
    {
     "data": {
      "text/plain": [
       "((5298, 'HS'),\n",
       " (3075, 'BIOL'),\n",
       " (2747, 'BUS'),\n",
       " (2717, 'HWL'),\n",
       " (2315, 'ECON'),\n",
       " (2289, 'CHEM'),\n",
       " (2223, 'COSI'),\n",
       " (1775, 'MATH'),\n",
       " (1693, 'PSYC'),\n",
       " (1144, 'ANTH'),\n",
       " (1105, 'ENG'))"
      ]
     },
     "execution_count": 151,
     "metadata": {},
     "output_type": "execute_result"
    }
   ],
   "source": [
    "sizes_dict = {}\n",
    "for course in courses:\n",
    "    sizes_dict[course['subject']] = (sizes_dict[course[\"subject\"]] + course[\"enrolled\"]) if course['subject'] in sizes_dict else 0 \n",
    "    \n",
    "courses_d = []\n",
    "for subject_name, subject_size in sizes_dict.items():\n",
    "    courses_d.append([subject_name, subject_size]) #map subject name to its size.eg,. {Chem, 1}\n",
    "\n",
    "courses_by_size = sorted(courses_d, key = lambda course:  - course[1])\n",
    "tuple([(course[1], course[0]) for course in courses_by_size[:11]])"
   ]
  },
  {
   "cell_type": "markdown",
   "metadata": {},
   "source": [
    "# 5g and 5h - Gisel"
   ]
  },
  {
   "cell_type": "code",
   "execution_count": 152,
   "metadata": {},
   "outputs": [
    {
     "name": "stdout",
     "output_type": "stream",
     "text": [
      "[('Leah', 'Berkenwald', 'leahb@brandeis.edu'), ('Stephanie', 'Murray', 'murray@brandeis.edu'), ('Maria', 'de Boef Miara', 'mmiara@brandeis.edu'), ('Maria', 'de Boef Miara', 'mmiara@brandeis.edu'), ('Stephanie', 'Murray', 'murray@brandeis.edu'), ('Stuart', 'Altman', 'altman@brandeis.edu'), ('Anne S', 'Berry', 'anneberry@brandeis.edu'), ('Ellen J', 'Wright', 'ejwright@brandeis.edu'), ('Timothy J', 'Hickey', 'tjhickey@brandeis.edu'), ('Timothy J', 'Hickey', 'tjhickey@brandeis.edu'), ('Daniel', 'Breen', 'dbreen91@brandeis.edu'), ('Dan L', 'Perlman', 'perlman@brandeis.edu'), ('Colleen', 'Hitchcock', 'hitchcock@brandeis.edu'), ('Teresa Vann', 'Mitchell', 'tmitch@brandeis.edu'), ('Jennifer', 'Gutsell', 'jgutsell@brandeis.edu'), ('Peter', 'Mistark', 'pmistark@brandeis.edu'), ('Peter', 'Mistark', 'pmistark@brandeis.edu'), ('Michael Thomas', 'Marr', 'mmarr@brandeis.edu'), ('Paul', 'DiZio', 'dizio@brandeis.edu'), ('Geoffrey', 'Clarke', 'geoffclarke@brandeis.edu'), ('Michael', 'Strand', 'mstrand@brandeis.edu')]\n",
      "['Introduction to Navigating Health and Safety', 'Organic Chemistry I', 'Physiology', 'Cells and Organisms', 'Organic Chemistry II', 'American Health Care', 'Introduction to Psychology', 'Introduction to Psychology', 'Introduction to 3-D Animation', 'Introduction to Problem Solving in Python', 'Introduction to Law', 'Fundamentals of Environmental Challenges', 'Evolution and Biodiversity', 'Human Neuropsychology', 'Social Psychology', 'Introduction to Physical Laws and Phenomena I', 'Introduction to Physical Laws and Phenomena II', 'Graduate Student Research Seminar', 'Statistics', 'Introduction to Microeconomics', 'Order and Change in Society']\n"
     ]
    }
   ],
   "source": [
    "#Questions 5g and 5h below\n",
    "def get_my_key(courses):\n",
    "    return courses['enrolled']\n",
    "\n",
    "sortedFile = sorted(courses, key = lambda course:  - course['enrolled'])\n",
    "\n",
    "topFaculty = []\n",
    "for s in sortedFile[:21]:\n",
    "    topFaculty.append(s['instructor'])\n",
    "print(topFaculty) \n",
    "\n",
    "topCourses = []\n",
    "for c in sortedFile[:21]:\n",
    "    topCourses.append(c['name'])\n",
    "print(topCourses) "
   ]
  },
  {
   "cell_type": "markdown",
   "metadata": {},
   "source": [
    "# 5i - Gisel"
   ]
  },
  {
   "cell_type": "markdown",
   "metadata": {},
   "source": [
    "Interesting Question - What coures have zero students enrolled?"
   ]
  },
  {
   "cell_type": "code",
   "execution_count": 4,
   "metadata": {},
   "outputs": [
    {
     "ename": "SyntaxError",
     "evalue": "invalid syntax (3883169933.py, line 1)",
     "output_type": "error",
     "traceback": [
      "\u001b[0;36m  Input \u001b[0;32mIn [4]\u001b[0;36m\u001b[0m\n\u001b[0;31m    zeroEnrolled = [c['name'] for c in courses if c['enrolled']== 0 and if c['name'] not in courses]\u001b[0m\n\u001b[0m                                                                        ^\u001b[0m\n\u001b[0;31mSyntaxError\u001b[0m\u001b[0;31m:\u001b[0m invalid syntax\n"
     ]
    }
   ],
   "source": [
    "zeroEnrolled = [c['name'] for c in courses if c['enrolled']== 0]\n",
    "\n",
    "for x in zeroEnrolled:\n",
    "    print(x)"
   ]
  },
  {
   "cell_type": "markdown",
   "metadata": {},
   "source": [
    "## 5i - Sanjna Calculate mean of enrollment for bio"
   ]
  },
  {
   "cell_type": "code",
   "execution_count": 154,
   "metadata": {},
   "outputs": [
    {
     "name": "stdout",
     "output_type": "stream",
     "text": [
      "0.7247191011235955\n"
     ]
    }
   ],
   "source": [
    "import statistics\n",
    "list = [c['enrolled'] for c in courses if c['subject']=='BIOL' if c['enrolled']<=10]\n",
    "print(statistics.mean(list))\n"
   ]
  },
  {
   "cell_type": "markdown",
   "metadata": {},
   "source": [
    "## 5i - Sampada List all BUS classes"
   ]
  },
  {
   "cell_type": "code",
   "execution_count": 155,
   "metadata": {},
   "outputs": [
    {
     "name": "stdout",
     "output_type": "stream",
     "text": [
      "['Global Dexterity', 'Information Visualization', 'Sales and Sales Management', 'Digital Fabrication with Robotics', 'Python and Applications to Business Analytics', 'Analyzing Big Data I', 'Independent Study', 'Python and Applications to Business Analytics II', 'Fundamentals of Organizational Behavior', 'Real Estate Fundamentals', 'Information Visualization', 'Digital Marketing', 'Python and Applications to Business Analytics', 'Launching Your Global Career', 'Launching Your Global Career', 'Analyzing Big Data I', 'Corporate Governance: From Colossal Failures to Best Practices', 'Launching Your Global Career', 'Analyzing Big Data II', 'Entrepreneurship', 'Alliance, Acquisition, and Divestment Strategy', 'Business Dynamics: Managing in a Complex World', 'Field Project: Social Impact Innovation', 'Leadership Internships in Social Impact Organizations', 'Consumer Behavior', 'Marketing Management', 'Marketing Analytics', 'Independent Study', 'MBA Career Strategy and Management Communication', 'Internship', 'Internship', 'Independent Study', 'Directed Research', 'Data Analytics Field Project', 'Data Analytics Field Project', 'Data Analytics Field Project', 'Data Analytics Field Project', 'Independent Study', 'Independent Study', 'Independent Study', 'Independent Study', 'Independent Study', 'Independent Study', 'Independent Study', 'Senior Project', 'Financial Accounting', 'Financial Accounting', 'Financial Accounting', 'Financial Accounting', 'Business Fundamentals', 'Business Fundamentals', 'Business Fundamentals', 'Introduction to Finance', 'Introduction to Finance', 'Organizational Behavior in Business', 'Entrepreneurship and Innovation', 'Real Estate and Society', 'Marketing Management', 'Operations Management', 'Organizational Behavior in Business', 'Leading in the Era of Diversity', 'Independent Study', 'Independent Study', 'Introduction to Data Analytics with Excel', 'Marketing Research', 'Independent Study', 'Independent Study', 'Independent Study', 'Competitive Strategy', 'Marketing Management', 'Senior Project', 'Independent Study', 'Social Media and Advertising', 'Information Visualization', 'Independent Study', 'Independent Study', 'Python and Applications to Business Analytics II', 'Cyber Security and Operational Risks: A Need to Secure the Future', 'Digital Fabrication with Robotics', 'International Real Estate: The Mature Markets', 'General Education Seminar', 'Analyzing Big Data I', 'Python and Applications to Business Analytics', 'Digital Marketing', 'Corporate Fraud: Detection and Prevention', 'Launching Your Global Career', 'Analyzing Big Data II', 'Influence, Power and Identity', 'Entrepreneurial Finances and Business Plans', 'Marketing Research: Design and Analysis', 'Branding Strategy', 'Competition and Strategy', 'Managing Technology and Innovation', 'Real Estate Field Project', 'Leadership Internships in Social Impact Organizations', 'Business Dynamics: Managing in a Complex World', 'Operations Management', 'Independent Study', 'Independent Study', 'MBA Career Strategy and Management Communication', 'Internship', 'Internship', 'Marketing Analytics', 'Independent Study', 'Independent Study', 'Independent Study', 'Marketing Field Project', 'Data Analytics Field Project', 'Data Analytics Field Project', 'Data Analytics Field Project', 'Data Analytics Field Project', 'Data Analytics Field Project', 'Data Analytics Field Project', 'Independent Study', 'Independent Study', 'Independent Study', 'Independent Study', 'Independent Study', 'Independent Study', 'Independent Study', 'Independent Study', 'Independent Study', 'Senior Research', 'Financial Accounting', 'Financial Accounting', 'Business Fundamentals', 'Business Fundamentals', 'Business Fundamentals', 'Real Estate and Society', 'Marketing Management', 'Organizational Behavior in Business', 'Marketing Management', 'Introduction to Finance', 'Managerial Accounting', 'Entrepreneurship and Innovation', 'Introduction to Finance', 'Organizational Behavior in Business', 'Independent Study', 'Business Analytics', 'Introduction to Data Analytics with Excel', 'Financial Accounting', 'Independent Study', 'Independent Study', 'Corporate Finance', 'Operations Management', 'Independent Study', 'Leading in Era of Diversity', 'Internship', 'Marketing Analytics', 'Internship', 'Internship', 'Work Practicum', 'Independent Study', 'Internship', 'Data Analytics Field Project', 'Data Analytics Field Project', 'Data Analytics Field Project', 'Real Estate Field Project', 'Information Visualization', 'Real Estate Fundamentals', 'Digital Fabrication with Robotics', 'Analyzing Big Data I', 'Analyzing Big Data II', 'Introduction to Finance', 'Corporate Finance: European Case Studies']\n"
     ]
    }
   ],
   "source": [
    "list_bus = [c['name'] for c in courses if c['subject']=='BUS']\n",
    "print(list_bus)"
   ]
  },
  {
   "cell_type": "markdown",
   "metadata": {},
   "source": [
    "## 5i - Jason list all courses Prof. Hickey Teaches"
   ]
  },
  {
   "cell_type": "code",
   "execution_count": 156,
   "metadata": {},
   "outputs": [
    {
     "name": "stdout",
     "output_type": "stream",
     "text": [
      "['Readings', 'Independent Study', \"Master's Project\", 'Dissertation Research', \"Master's Research Internship\", 'Independent Study', 'Senior Research', 'Research Internship and Analysis', 'Introduction to Problem Solving in Python', 'Readings', 'Independent Study', \"Master's Research Internship\", \"Master's Project\", 'Dissertation Research', 'Senior Research', 'Independent Study', 'Research Internship and Analysis', 'Introduction to 3-D Animation', 'Introduction to Problem Solving in Python', 'Web Application Development', 'Mobile Application Development']\n"
     ]
    }
   ],
   "source": [
    "list_hickey = [c['name'] for c in courses if 'tjhickey@brandeis.edu' in c['instructor']]\n",
    "print(list_hickey)"
   ]
  },
  {
   "cell_type": "markdown",
   "metadata": {},
   "source": [
    "#### 5e\n",
    "\n",
    "Create a list of tuples (E,S) where S is a subject and E is the number of students enrolled in courses in that subject, sort it and print the top 10 subjects in terms of number of courses offered. \n",
    "\n",
    "(# of courses offered per subject) \n",
    "Subject with highest number of courses\n"
   ]
  },
  {
   "cell_type": "code",
   "execution_count": 157,
   "metadata": {},
   "outputs": [
    {
     "data": {
      "text/plain": [
       "((497, 'HIST'),\n",
       " (416, 'PSYC'),\n",
       " (402, 'NEUR'),\n",
       " (295, 'BCHM'),\n",
       " (287, 'PHYS'),\n",
       " (273, 'HS'),\n",
       " (271, 'COSI'),\n",
       " (265, 'MUS'),\n",
       " (264, 'ENG'),\n",
       " (262, 'BCBP'))"
      ]
     },
     "execution_count": 157,
     "metadata": {},
     "output_type": "execute_result"
    }
   ],
   "source": [
    "sizes_dict = {}\n",
    "for course in courses:\n",
    "    sizes_dict[course[\"subject\"]] = (sizes_dict[course[\"subject\"]] + 1) if course['subject'] in sizes_dict else 0 \n",
    "    #Create a counter  with subjects as keys ie {Biol: 1} and then, then use a sorter to get the b top ten in a for loop\n",
    "    # and then use that to create a tuples\n",
    "courses_1 = []\n",
    "for subject_name, subject_size in sizes_dict.items():\n",
    "    courses_1.append([subject_name, subject_size])\n",
    "subjects_by_size = sorted(courses_1, key = lambda subject:- subject[1])\n",
    "tuple([(course[1], course[0]) for course in subjects_by_size [1:11]])\n"
   ]
  },
  {
   "cell_type": "markdown",
   "metadata": {},
   "source": [
    "#### 5f\n",
    "\n",
    "Create a list of tuples (E,S) where S is a subject and E is the number of students enrolled in courses in that subject, sort it and print the top 10 subjects in terms of number of faculty teaching courses in that subject\n"
   ]
  },
  {
   "cell_type": "code",
   "execution_count": 158,
   "metadata": {},
   "outputs": [
    {
     "data": {
      "text/plain": [
       "((48, ('Leslie Claire', 'Griffith', 'griffith@brandeis.edu')),\n",
       " (48, ('Kene Nathan', 'Piasta', 'kpiasta@brandeis.edu')),\n",
       " (46, ('Sacha', 'Nelson', 'nelson@brandeis.edu')),\n",
       " (46, ('Seth', 'Fraden', 'fraden@brandeis.edu')),\n",
       " (46, ('Paul', 'DiZio', 'dizio@brandeis.edu')),\n",
       " (45, ('John', 'Lisman', 'lisman@brandeis.edu')),\n",
       " (44, ('Michael', 'Rosbash', 'rosbash@brandeis.edu')),\n",
       " (44, ('Donald B.', 'Katz', 'dbkatz@brandeis.edu')),\n",
       " (44, ('Robert W', 'Sekuler', 'sekuler@brandeis.edu')),\n",
       " (43, ('Arthur', 'Wingfield', 'wingfiel@brandeis.edu')))"
      ]
     },
     "execution_count": 158,
     "metadata": {},
     "output_type": "execute_result"
    }
   ],
   "source": [
    "sizes_dict = {}\n",
    "for course in courses:\n",
    "    sizes_dict[course[\"instructor\"]] = (sizes_dict[course[\"instructor\"]] + 1) if course[\"instructor\"] in sizes_dict else 0   \n",
    "courses = []\n",
    "for subject_name, subject_size in sizes_dict.items():\n",
    "    courses.append([subject_name, subject_size])\n",
    "subjects_by_size = sorted(courses, key = lambda subject:- subject[1])\n",
    "tuple([(course[1], course[0]) for course in subjects_by_size [1:11]])\n"
   ]
  },
  {
   "cell_type": "code",
   "execution_count": null,
   "metadata": {},
   "outputs": [],
   "source": []
  }
 ],
 "metadata": {
  "kernelspec": {
   "display_name": "Python 3 (ipykernel)",
   "language": "python",
   "name": "python3"
  },
  "language_info": {
   "codemirror_mode": {
    "name": "ipython",
    "version": 3
   },
   "file_extension": ".py",
   "mimetype": "text/x-python",
   "name": "python",
   "nbconvert_exporter": "python",
   "pygments_lexer": "ipython3",
   "version": "3.9.7"
  }
 },
 "nbformat": 4,
 "nbformat_minor": 4
}
