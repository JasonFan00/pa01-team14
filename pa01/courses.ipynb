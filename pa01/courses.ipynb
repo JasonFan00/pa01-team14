{
 "cells": [
  {
   "cell_type": "markdown",
   "metadata": {},
   "source": [
    "# Courses Demo\n",
    "This Jupyter notebook is for exploring the data set courses20-21.json\n",
    "which consists of all Brandeis courses in the 20-21 academic year (Fall20, Spr21, Sum21) \n",
    "which had at least 1 student enrolled.\n",
    "\n",
    "First we need to read the json file into a list of Python dictionaries"
   ]
  },
  {
   "cell_type": "code",
   "execution_count": 17,
   "metadata": {},
   "outputs": [],
   "source": [
    "import json"
   ]
  },
  {
   "cell_type": "code",
   "execution_count": 18,
   "metadata": {},
   "outputs": [],
   "source": [
    "with open(\"courses20-21.json\",\"r\",encoding='utf-8') as jsonfile:\n",
    "    courses = json.load(jsonfile)"
   ]
  },
  {
   "cell_type": "markdown",
   "metadata": {},
   "source": [
    "## Structure of a course\n",
    "Next we look at the fields of each course dictionary and their values"
   ]
  },
  {
   "cell_type": "code",
   "execution_count": 19,
   "metadata": {},
   "outputs": [
    {
     "name": "stdout",
     "output_type": "stream",
     "text": [
      "there are 7813 courses in the dataset\n",
      "here is the data for course 1246\n"
     ]
    },
    {
     "data": {
      "text/plain": [
       "{'limit': 28,\n",
       " 'times': [{'start': 1080, 'end': 1170, 'days': ['w', 'm']}],\n",
       " 'enrolled': 4,\n",
       " 'details': 'Instruction for this course will be offered remotely. Meeting times for this course are listed in the schedule of classes (in ET).',\n",
       " 'type': 'section',\n",
       " 'status_text': 'Open',\n",
       " 'section': '1',\n",
       " 'waiting': 0,\n",
       " 'instructor': ['An', 'Huang', 'anhuang@brandeis.edu'],\n",
       " 'coinstructors': [],\n",
       " 'code': ['MATH', '223A'],\n",
       " 'subject': 'MATH',\n",
       " 'coursenum': '223A',\n",
       " 'name': 'Lie Algebras: Representation Theory',\n",
       " 'independent_study': False,\n",
       " 'term': '1203',\n",
       " 'description': \"Theorems of Engel and Lie. Semisimple Lie algebras, Cartan's criterion. Universal enveloping algebras, PBW theorem, Serre's construction. Representation theory. Other topics as time permits. Usually offered every second year.\\nAn Huang\"}"
      ]
     },
     "execution_count": 19,
     "metadata": {},
     "output_type": "execute_result"
    }
   ],
   "source": [
    "print('there are',len(courses),'courses in the dataset')\n",
    "print('here is the data for course 1246')\n",
    "courses[1246]"
   ]
  },
  {
   "cell_type": "markdown",
   "metadata": {},
   "source": []
  },
  {
   "cell_type": "markdown",
   "metadata": {},
   "source": [
    "## Cleaning the data\n",
    "If we want to sort courses by instructor or by code, we need to replace the lists with tuples (which are immutable lists)"
   ]
  },
  {
   "cell_type": "code",
   "execution_count": 20,
   "metadata": {
    "tags": []
   },
   "outputs": [],
   "source": [
    "for course in courses:\n",
    "        course['instructor'] = tuple(course['instructor'])\n",
    "        course['coinstructors'] = tuple([tuple(f) for f in course['coinstructors']])\n",
    "        course['code']= tuple(course['code'])"
   ]
  },
  {
   "cell_type": "code",
   "execution_count": 21,
   "metadata": {
    "tags": []
   },
   "outputs": [
    {
     "name": "stdout",
     "output_type": "stream",
     "text": [
      "notice that the instructor and code are tuples now\n"
     ]
    },
    {
     "data": {
      "text/plain": [
       "{'limit': 28,\n",
       " 'times': [{'start': 1080, 'end': 1170, 'days': ['w', 'm']}],\n",
       " 'enrolled': 4,\n",
       " 'details': 'Instruction for this course will be offered remotely. Meeting times for this course are listed in the schedule of classes (in ET).',\n",
       " 'type': 'section',\n",
       " 'status_text': 'Open',\n",
       " 'section': '1',\n",
       " 'waiting': 0,\n",
       " 'instructor': ('An', 'Huang', 'anhuang@brandeis.edu'),\n",
       " 'coinstructors': (),\n",
       " 'code': ('MATH', '223A'),\n",
       " 'subject': 'MATH',\n",
       " 'coursenum': '223A',\n",
       " 'name': 'Lie Algebras: Representation Theory',\n",
       " 'independent_study': False,\n",
       " 'term': '1203',\n",
       " 'description': \"Theorems of Engel and Lie. Semisimple Lie algebras, Cartan's criterion. Universal enveloping algebras, PBW theorem, Serre's construction. Representation theory. Other topics as time permits. Usually offered every second year.\\nAn Huang\"}"
      ]
     },
     "execution_count": 21,
     "metadata": {},
     "output_type": "execute_result"
    }
   ],
   "source": [
    "print('notice that the instructor and code are tuples now')\n",
    "courses[1246]"
   ]
  },
  {
   "cell_type": "markdown",
   "metadata": {},
   "source": [
    "# Exploring the data set\n",
    "Now we will show how to use straight python to explore the data set and answer some interesting questions. Next week we will start learning Pandas/Numpy which are packages that make it easier to explore large dataset efficiently.\n",
    "\n",
    "Here are some questions we can try to asnwer:\n",
    "* what are all of the subjects of courses (e.g. COSI, MATH, JAPN, PHIL, ...)\n",
    "* which terms are represented?\n",
    "* how many instructors taught at Brandeis last year?\n",
    "* what were the five largest course sections?\n",
    "* what were the five largest courses (where we combine sections)?\n",
    "* which are the five largest subjects measured by number of courses offered?\n",
    "* which are the five largest courses measured by number of students taught?\n",
    "* which course had the most sections taught in 20-21?\n",
    "* who are the top five faculty in terms of number of students taught?\n",
    "* etc."
   ]
  },
  {
   "cell_type": "code",
   "execution_count": 6,
   "metadata": {},
   "outputs": [
    {
     "data": {
      "text/plain": [
       "((497, 'HIST'),\n",
       " (416, 'PSYC'),\n",
       " (402, 'NEUR'),\n",
       " (295, 'BCHM'),\n",
       " (287, 'PHYS'),\n",
       " (273, 'HS'),\n",
       " (271, 'COSI'),\n",
       " (265, 'MUS'),\n",
       " (264, 'ENG'),\n",
       " (262, 'BCBP'))"
      ]
     },
     "execution_count": 6,
     "metadata": {},
     "output_type": "execute_result"
    }
   ],
   "source": [
    "len({c['subject'] for c in courses})\n",
    "   "
   ]
  },
  {
   "cell_type": "markdown",
   "metadata": {},
   "source": [
    "Print a list of all courses offered for a specific subject"
   ]
  },
  {
   "cell_type": "markdown",
   "metadata": {},
   "source": [
    "## A list of open courses in fine arts "
   ]
  },
  {
   "cell_type": "code",
   "execution_count": 22,
   "metadata": {},
   "outputs": [
    {
     "data": {
      "text/plain": [
       "{'Capstone Project for Software Engineering',\n",
       " 'Data Management for Data Science',\n",
       " 'Deep Learning',\n",
       " 'Discrete Structures',\n",
       " 'Fundamentals of Artificial Intelligence',\n",
       " 'Introduction to Problem Solving in Python',\n",
       " 'Operating Systems'}"
      ]
     },
     "execution_count": 22,
     "metadata": {},
     "output_type": "execute_result"
    }
   ],
   "source": [
    "{c['name'] for c in courses if c['status_text']=='Closed' if c['subject']=='COSI' if c['enrolled']>10}\n"
   ]
  },
  {
   "cell_type": "markdown",
   "metadata": {},
   "source": [
    "## 5c. \n",
    "what was the median size of a COSI course last year (counting only those courses with at least 10 students)"
   ]
  },
  {
   "cell_type": "code",
   "execution_count": 23,
   "metadata": {
    "tags": []
   },
   "outputs": [
    {
     "name": "stdout",
     "output_type": "stream",
     "text": [
      "56\n"
     ]
    }
   ],
   "source": [
    "list = {c['enrolled'] for c in courses if c['subject']=='COSI' if c['enrolled']>=10}\n",
    "sum=0 \n",
    "for l in list:\n",
    "    sum = sum+l\n",
    "avg= round(sum/len(list))\n",
    "print(avg)\n"
   ]
  },
  {
   "cell_type": "markdown",
   "metadata": {
    "tags": []
   },
   "source": [
    "## 5d. \n",
    "Create a list of tuples (E,S) where S is a subject and E is the number of students enrolled in courses in that subject, sort it and print the top 10. This shows the top 10 subjects in terms of number of students taught."
   ]
  },
  {
   "cell_type": "code",
   "execution_count": 24,
   "metadata": {},
   "outputs": [
    {
     "name": "stdout",
     "output_type": "stream",
     "text": [
      "164\n",
      "2747\n",
      "2315\n",
      "1046\n",
      "5298\n",
      "1144\n",
      "2289\n",
      "912\n",
      "918\n",
      "1693\n",
      "283\n",
      "1105\n",
      "935\n",
      "3075\n",
      "348\n",
      "380\n",
      "1775\n",
      "832\n",
      "923\n",
      "92\n",
      "30\n",
      "779\n",
      "236\n",
      "0\n",
      "2223\n",
      "32\n",
      "47\n",
      "525\n",
      "1097\n",
      "442\n",
      "156\n",
      "0\n",
      "46\n",
      "42\n",
      "16\n",
      "41\n",
      "0\n",
      "2717\n",
      "77\n",
      "218\n",
      "92\n",
      "64\n",
      "87\n",
      "631\n",
      "211\n",
      "272\n",
      "215\n",
      "183\n",
      "368\n",
      "4\n",
      "7\n",
      "22\n",
      "14\n",
      "24\n",
      "7\n",
      "52\n",
      "25\n",
      "615\n",
      "42\n",
      "0\n",
      "559\n",
      "375\n",
      "9\n",
      "105\n",
      "992\n",
      "0\n",
      "13\n",
      "72\n",
      "13\n",
      "43\n",
      "301\n",
      "171\n",
      "160\n",
      "375\n",
      "60\n",
      "43\n",
      "20\n",
      "0\n",
      "54\n",
      "0\n",
      "262\n",
      "0\n",
      "22\n",
      "0\n",
      "740\n",
      "86\n",
      "0\n",
      "0\n",
      "40\n",
      "28\n",
      "4\n",
      "28\n",
      "45\n",
      "0\n",
      "0\n",
      "0\n",
      "14\n",
      "0\n",
      "0\n",
      "0\n",
      "0\n",
      "0\n",
      "0\n",
      "0\n",
      "0\n",
      "0\n",
      "99\n",
      "33\n",
      "45\n",
      "26\n",
      "145\n",
      "57\n",
      "43\n",
      "47\n",
      "93\n",
      "196\n",
      "153\n",
      "62\n",
      "225\n",
      "0\n",
      "[['HS', 5298], ['BIOL', 3075], ['BUS', 2747], ['HWL', 2717], ['ECON', 2315], ['CHEM', 2289], ['COSI', 2223], ['MATH', 1775], ['PSYC', 1693], ['ANTH', 1144], ['ENG', 1105], ['PHYS', 1097], ['FIN', 1046], ['FA', 992], ['POL', 935], ['SOC', 923], ['HIST', 918], ['PHIL', 912], ['MUS', 832], ['ED', 779], ['UWS', 740], ['HISP', 631], ['LGLS', 615], ['HSSP', 559], ['THA', 525], ['NEJS', 442], ['CHIN', 380], ['ENVS', 375], ['NPSY', 375], ['BCHM', 368], ['NBIO', 348], ['LING', 301], ['WGS', 283], ['IGS', 272], ['EL', 262], ['CLAS', 236], ['RUCD', 225], ['JAPN', 218], ['AMST', 215], ['FREN', 211], ['RPJM', 196], ['AAAS', 183], ['JOUR', 171], ['HRNS', 164], ['HBRW', 160], ['NEUR', 156], ['RSAN', 153], ['RDMD', 145], ['FILM', 105], ['RBIF', 99], ['RMGT', 93], ['BCBP', 92], ['KOR', 92], ['ITAL', 87], ['COMP', 86], ['GER', 77], ['CAST', 72], ['RUS', 64], ['RSEG', 62], ['ARBC', 60], ['RHIN', 57], ['AAAS/WGS', 54], ['REL', 52], ['LAT', 47], ['RIDT', 47], ['ESL', 46], ['BISC', 45], ['RCOM', 45], ['LALS', 43], ['INT', 43], ['RIAS', 43], ['BUS/FIN', 42], ['QBIO', 42], ['ECON/FIN', 41], ['AAPI/HIS', 40], ['RBOT', 33], ['GRK', 32], ['BIOT', 30], ['RECS', 28], ['AAAS/HIS', 28], ['RDFT', 26], ['PAX', 25], ['YDSH', 24], ['COML', 22], ['AMST/ENG', 22], ['CA', 20], ['BUS/ECON', 16], ['SAS', 14], ['HUM/UWS', 14], ['IIM', 13], ['IMES', 13], ['ECS', 9], ['EAS', 7], ['SJSP', 7], ['BIPH', 4], ['AAPI/WGS', 4], ['COMH', 0], ['PMED', 0], ['HS/POL', 0], ['BIBC', 0], ['HOID', 0], ['EBIO', 0], ['HUM', 0], ['CBIO', 0], ['RECS/THA', 0], ['MERS', 0], ['AAS/AAPI', 0], ['AAPI', 0], ['GS', 0], ['POL/WGS', 0], ['CHSC', 0], ['AMST/MUS', 0], ['HIST/SOC', 0], ['QR', 0], ['CLAS/ENG', 0], ['ANTH/WGS', 0], ['HIST/WGS', 0], ['CLAS/NEJ', 0], ['ECS/ENG', 0], ['GECS', 0]]\n"
     ]
    },
    {
     "data": {
      "text/plain": [
       "((3075, 'BIOL'),\n",
       " (2747, 'BUS'),\n",
       " (2717, 'HWL'),\n",
       " (2315, 'ECON'),\n",
       " (2289, 'CHEM'),\n",
       " (2223, 'COSI'),\n",
       " (1775, 'MATH'),\n",
       " (1693, 'PSYC'),\n",
       " (1144, 'ANTH'),\n",
       " (1105, 'ENG'))"
      ]
     },
     "execution_count": 24,
     "metadata": {},
     "output_type": "execute_result"
    }
   ],
   "source": [
    "sizes_dict = {}\n",
    "for course in courses:\n",
    "    sizes_dict[course['subject']] = (sizes_dict[course[\"subject\"]] + course[\"enrolled\"]) if course['subject'] in sizes_dict else 0 \n",
    "    \n",
    "courses_d = []\n",
    "for subject_name, subject_size in sizes_dict.items():\n",
    "    courses_d.append([subject_name, subject_size]) #map subject name to its size.eg,. {Chem, 1}\n",
    "    \n",
    "courses_by_size = sorted(courses_d, key = lambda course:  - course[1]) #sorting \n",
    "tuple([(course[1], course[0]) for course in courses_by_size [1:11]]) #create tuples "
   ]
  },
  {
   "cell_type": "markdown",
   "metadata": {},
   "outputs": [],
   "source": []
  }
 ],
 "metadata": {
  "kernelspec": {
   "display_name": "Python 3",
   "language": "python",
   "name": "python3"
  },
  "language_info": {
   "codemirror_mode": {
    "name": "ipython",
    "version": 3
   },
   "file_extension": ".py",
   "mimetype": "text/x-python",
   "name": "python",
   "nbconvert_exporter": "python",
   "pygments_lexer": "ipython3",
   "version": "3.9.5"
  }
 },
 "nbformat": 4,
 "nbformat_minor": 4
}
