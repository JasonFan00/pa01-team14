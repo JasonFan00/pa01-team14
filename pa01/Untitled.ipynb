{
 "cells": [],
 "metadata": {},
 "nbformat": 4,
<<<<<<< HEAD
 "nbformat_minor": 4
=======
 "nbformat_minor": 5
>>>>>>> 90033cd6006fa59d52f8e2a13e016a1499ec9693
}
